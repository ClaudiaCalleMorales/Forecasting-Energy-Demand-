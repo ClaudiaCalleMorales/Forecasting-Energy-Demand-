{
 "cells": [
  {
   "cell_type": "markdown",
   "id": "7657932a",
   "metadata": {},
   "source": [
    "# Energy Demand Forecasting\n",
    "\n",
    "This notebook demonstrates how to forecast synthetic energy demand data using Holt-Winters Exponential Smoothing."
   ]
  },
  {
   "cell_type": "markdown",
   "id": "84bb8380",
   "metadata": {},
   "source": [
    "## 1. Generate Synthetic Data"
   ]
  },
  {
   "cell_type": "code",
   "execution_count": null,
   "id": "07db32ea",
   "metadata": {},
   "outputs": [],
   "source": [
    "\n",
    "import pandas as pd\n",
    "import numpy as np\n",
    "import matplotlib.pyplot as plt\n",
    "\n",
    "# Set seed for reproducibility\n",
    "np.random.seed(42)\n",
    "\n",
    "# Generate synthetic data\n",
    "days = pd.date_range(start='2023-01-01', periods=180, freq='D')\n",
    "trend = np.linspace(100, 150, 180)\n",
    "seasonality = 10 * np.sin(np.linspace(0, 3 * np.pi, 180))\n",
    "noise = np.random.normal(scale=5, size=180)\n",
    "demand = trend + seasonality + noise\n",
    "\n",
    "# Create DataFrame\n",
    "data = pd.DataFrame({'Date': days, 'Energy_Demand': demand})\n",
    "data.set_index('Date', inplace=True)\n",
    "data.head()\n"
   ]
  },
  {
   "cell_type": "markdown",
   "id": "5ec52953",
   "metadata": {},
   "source": [
    "## 2. Visualise the Data"
   ]
  },
  {
   "cell_type": "code",
   "execution_count": null,
   "id": "d8090f46",
   "metadata": {},
   "outputs": [],
   "source": [
    "\n",
    "plt.figure(figsize=(12, 6))\n",
    "plt.plot(data['Energy_Demand'], label='Energy Demand')\n",
    "plt.title('Synthetic Daily Energy Demand')\n",
    "plt.xlabel('Date')\n",
    "plt.ylabel('Demand (MW)')\n",
    "plt.grid(True)\n",
    "plt.legend()\n",
    "plt.tight_layout()\n",
    "plt.show()\n"
   ]
  },
  {
   "cell_type": "markdown",
   "id": "e3923d3c",
   "metadata": {},
   "source": [
    "## 3. Fit Exponential Smoothing Model and Forecast"
   ]
  },
  {
   "cell_type": "code",
   "execution_count": null,
   "id": "ccc65dc2",
   "metadata": {},
   "outputs": [],
   "source": [
    "\n",
    "from statsmodels.tsa.holtwinters import ExponentialSmoothing\n",
    "\n",
    "# Fit model\n",
    "model = ExponentialSmoothing(data['Energy_Demand'], trend='add', seasonal='add', seasonal_periods=30)\n",
    "fit = model.fit()\n",
    "\n",
    "# Forecast next 14 days\n",
    "forecast = fit.forecast(14)\n",
    "\n",
    "# Create forecast DataFrame\n",
    "forecast_df = pd.DataFrame({\n",
    "    'Date': pd.date_range(start=data.index[-1] + pd.Timedelta(days=1), periods=14, freq='D'),\n",
    "    'Forecast': forecast\n",
    "})\n",
    "forecast_df.set_index('Date', inplace=True)\n"
   ]
  },
  {
   "cell_type": "markdown",
   "id": "2715d0dd",
   "metadata": {},
   "source": [
    "## 4. Plot Forecast"
   ]
  },
  {
   "cell_type": "code",
   "execution_count": null,
   "id": "a5999ca7",
   "metadata": {},
   "outputs": [],
   "source": [
    "\n",
    "plt.figure(figsize=(12, 6))\n",
    "plt.plot(data['Energy_Demand'], label='Historical Demand')\n",
    "plt.plot(forecast_df['Forecast'], label='Forecast', linestyle='--')\n",
    "plt.title('Energy Demand Forecasting (Mock Data)')\n",
    "plt.xlabel('Date')\n",
    "plt.ylabel('Energy Demand (MW)')\n",
    "plt.legend()\n",
    "plt.grid(True)\n",
    "plt.tight_layout()\n",
    "plt.show()\n"
   ]
  }
 ],
 "metadata": {},
 "nbformat": 4,
 "nbformat_minor": 5
}
